{
 "cells": [
  {
   "cell_type": "code",
   "execution_count": 1,
   "id": "64ee4c26-f4d1-49f5-b26e-180ce186efaf",
   "metadata": {},
   "outputs": [],
   "source": [
    "import numpy as np\n",
    "import pandas as pd\n",
    "#importing basic libraries for analysis"
   ]
  },
  {
   "cell_type": "code",
   "execution_count": 2,
   "id": "c96a4e24-b96b-472b-a4e8-8e3de0765397",
   "metadata": {},
   "outputs": [],
   "source": [
    "df=pd.read_csv(\"WA_Fn-UseC_-Telco-Customer-Churn.csv\")"
   ]
  },
  {
   "cell_type": "code",
   "execution_count": 3,
   "id": "08609e20-00c0-4380-a982-96a3c88f47ad",
   "metadata": {},
   "outputs": [
    {
     "data": {
      "text/html": [
       "<div>\n",
       "<style scoped>\n",
       "    .dataframe tbody tr th:only-of-type {\n",
       "        vertical-align: middle;\n",
       "    }\n",
       "\n",
       "    .dataframe tbody tr th {\n",
       "        vertical-align: top;\n",
       "    }\n",
       "\n",
       "    .dataframe thead th {\n",
       "        text-align: right;\n",
       "    }\n",
       "</style>\n",
       "<table border=\"1\" class=\"dataframe\">\n",
       "  <thead>\n",
       "    <tr style=\"text-align: right;\">\n",
       "      <th></th>\n",
       "      <th>customerID</th>\n",
       "      <th>gender</th>\n",
       "      <th>SeniorCitizen</th>\n",
       "      <th>Partner</th>\n",
       "      <th>Dependents</th>\n",
       "      <th>tenure</th>\n",
       "      <th>PhoneService</th>\n",
       "      <th>MultipleLines</th>\n",
       "      <th>InternetService</th>\n",
       "      <th>OnlineSecurity</th>\n",
       "      <th>...</th>\n",
       "      <th>DeviceProtection</th>\n",
       "      <th>TechSupport</th>\n",
       "      <th>StreamingTV</th>\n",
       "      <th>StreamingMovies</th>\n",
       "      <th>Contract</th>\n",
       "      <th>PaperlessBilling</th>\n",
       "      <th>PaymentMethod</th>\n",
       "      <th>MonthlyCharges</th>\n",
       "      <th>TotalCharges</th>\n",
       "      <th>Churn</th>\n",
       "    </tr>\n",
       "  </thead>\n",
       "  <tbody>\n",
       "    <tr>\n",
       "      <th>6407</th>\n",
       "      <td>6728-CZFEI</td>\n",
       "      <td>Female</td>\n",
       "      <td>0</td>\n",
       "      <td>No</td>\n",
       "      <td>No</td>\n",
       "      <td>15</td>\n",
       "      <td>Yes</td>\n",
       "      <td>No</td>\n",
       "      <td>DSL</td>\n",
       "      <td>No</td>\n",
       "      <td>...</td>\n",
       "      <td>No</td>\n",
       "      <td>No</td>\n",
       "      <td>Yes</td>\n",
       "      <td>No</td>\n",
       "      <td>One year</td>\n",
       "      <td>No</td>\n",
       "      <td>Mailed check</td>\n",
       "      <td>56.15</td>\n",
       "      <td>931.9</td>\n",
       "      <td>No</td>\n",
       "    </tr>\n",
       "    <tr>\n",
       "      <th>4123</th>\n",
       "      <td>8910-LEDAG</td>\n",
       "      <td>Male</td>\n",
       "      <td>1</td>\n",
       "      <td>Yes</td>\n",
       "      <td>No</td>\n",
       "      <td>34</td>\n",
       "      <td>Yes</td>\n",
       "      <td>No</td>\n",
       "      <td>Fiber optic</td>\n",
       "      <td>No</td>\n",
       "      <td>...</td>\n",
       "      <td>No</td>\n",
       "      <td>No</td>\n",
       "      <td>No</td>\n",
       "      <td>No</td>\n",
       "      <td>Month-to-month</td>\n",
       "      <td>No</td>\n",
       "      <td>Credit card (automatic)</td>\n",
       "      <td>71.55</td>\n",
       "      <td>2427.35</td>\n",
       "      <td>No</td>\n",
       "    </tr>\n",
       "    <tr>\n",
       "      <th>4845</th>\n",
       "      <td>0056-EPFBG</td>\n",
       "      <td>Male</td>\n",
       "      <td>0</td>\n",
       "      <td>Yes</td>\n",
       "      <td>Yes</td>\n",
       "      <td>20</td>\n",
       "      <td>No</td>\n",
       "      <td>No phone service</td>\n",
       "      <td>DSL</td>\n",
       "      <td>Yes</td>\n",
       "      <td>...</td>\n",
       "      <td>Yes</td>\n",
       "      <td>Yes</td>\n",
       "      <td>No</td>\n",
       "      <td>No</td>\n",
       "      <td>Two year</td>\n",
       "      <td>Yes</td>\n",
       "      <td>Credit card (automatic)</td>\n",
       "      <td>39.40</td>\n",
       "      <td>825.4</td>\n",
       "      <td>No</td>\n",
       "    </tr>\n",
       "    <tr>\n",
       "      <th>2455</th>\n",
       "      <td>8481-YYXWG</td>\n",
       "      <td>Female</td>\n",
       "      <td>0</td>\n",
       "      <td>No</td>\n",
       "      <td>No</td>\n",
       "      <td>5</td>\n",
       "      <td>Yes</td>\n",
       "      <td>No</td>\n",
       "      <td>Fiber optic</td>\n",
       "      <td>No</td>\n",
       "      <td>...</td>\n",
       "      <td>No</td>\n",
       "      <td>Yes</td>\n",
       "      <td>No</td>\n",
       "      <td>Yes</td>\n",
       "      <td>Month-to-month</td>\n",
       "      <td>Yes</td>\n",
       "      <td>Electronic check</td>\n",
       "      <td>89.35</td>\n",
       "      <td>461.7</td>\n",
       "      <td>Yes</td>\n",
       "    </tr>\n",
       "    <tr>\n",
       "      <th>5238</th>\n",
       "      <td>7841-FCRQD</td>\n",
       "      <td>Female</td>\n",
       "      <td>0</td>\n",
       "      <td>Yes</td>\n",
       "      <td>No</td>\n",
       "      <td>33</td>\n",
       "      <td>Yes</td>\n",
       "      <td>No</td>\n",
       "      <td>DSL</td>\n",
       "      <td>No</td>\n",
       "      <td>...</td>\n",
       "      <td>No</td>\n",
       "      <td>Yes</td>\n",
       "      <td>No</td>\n",
       "      <td>No</td>\n",
       "      <td>One year</td>\n",
       "      <td>Yes</td>\n",
       "      <td>Credit card (automatic)</td>\n",
       "      <td>53.75</td>\n",
       "      <td>1857.3</td>\n",
       "      <td>No</td>\n",
       "    </tr>\n",
       "  </tbody>\n",
       "</table>\n",
       "<p>5 rows × 21 columns</p>\n",
       "</div>"
      ],
      "text/plain": [
       "      customerID  gender  SeniorCitizen Partner Dependents  tenure  \\\n",
       "6407  6728-CZFEI  Female              0      No         No      15   \n",
       "4123  8910-LEDAG    Male              1     Yes         No      34   \n",
       "4845  0056-EPFBG    Male              0     Yes        Yes      20   \n",
       "2455  8481-YYXWG  Female              0      No         No       5   \n",
       "5238  7841-FCRQD  Female              0     Yes         No      33   \n",
       "\n",
       "     PhoneService     MultipleLines InternetService OnlineSecurity  ...  \\\n",
       "6407          Yes                No             DSL             No  ...   \n",
       "4123          Yes                No     Fiber optic             No  ...   \n",
       "4845           No  No phone service             DSL            Yes  ...   \n",
       "2455          Yes                No     Fiber optic             No  ...   \n",
       "5238          Yes                No             DSL             No  ...   \n",
       "\n",
       "     DeviceProtection TechSupport StreamingTV StreamingMovies        Contract  \\\n",
       "6407               No          No         Yes              No        One year   \n",
       "4123               No          No          No              No  Month-to-month   \n",
       "4845              Yes         Yes          No              No        Two year   \n",
       "2455               No         Yes          No             Yes  Month-to-month   \n",
       "5238               No         Yes          No              No        One year   \n",
       "\n",
       "     PaperlessBilling            PaymentMethod MonthlyCharges  TotalCharges  \\\n",
       "6407               No             Mailed check          56.15         931.9   \n",
       "4123               No  Credit card (automatic)          71.55       2427.35   \n",
       "4845              Yes  Credit card (automatic)          39.40         825.4   \n",
       "2455              Yes         Electronic check          89.35         461.7   \n",
       "5238              Yes  Credit card (automatic)          53.75        1857.3   \n",
       "\n",
       "     Churn  \n",
       "6407    No  \n",
       "4123    No  \n",
       "4845    No  \n",
       "2455   Yes  \n",
       "5238    No  \n",
       "\n",
       "[5 rows x 21 columns]"
      ]
     },
     "execution_count": 3,
     "metadata": {},
     "output_type": "execute_result"
    }
   ],
   "source": [
    "df.sample(5)"
   ]
  },
  {
   "cell_type": "code",
   "execution_count": 4,
   "id": "2ad108e6-33a9-4ad1-be07-ab22c31a7dd0",
   "metadata": {},
   "outputs": [
    {
     "data": {
      "text/plain": [
       "(7043, 21)"
      ]
     },
     "execution_count": 4,
     "metadata": {},
     "output_type": "execute_result"
    }
   ],
   "source": [
    "df.shape"
   ]
  },
  {
   "cell_type": "code",
   "execution_count": 5,
   "id": "38dd0f7f-3e27-4148-b7a4-93ce4215df7c",
   "metadata": {},
   "outputs": [
    {
     "data": {
      "text/html": [
       "<div>\n",
       "<style scoped>\n",
       "    .dataframe tbody tr th:only-of-type {\n",
       "        vertical-align: middle;\n",
       "    }\n",
       "\n",
       "    .dataframe tbody tr th {\n",
       "        vertical-align: top;\n",
       "    }\n",
       "\n",
       "    .dataframe thead th {\n",
       "        text-align: right;\n",
       "    }\n",
       "</style>\n",
       "<table border=\"1\" class=\"dataframe\">\n",
       "  <thead>\n",
       "    <tr style=\"text-align: right;\">\n",
       "      <th></th>\n",
       "      <th>SeniorCitizen</th>\n",
       "      <th>tenure</th>\n",
       "      <th>MonthlyCharges</th>\n",
       "    </tr>\n",
       "  </thead>\n",
       "  <tbody>\n",
       "    <tr>\n",
       "      <th>count</th>\n",
       "      <td>7043.000000</td>\n",
       "      <td>7043.000000</td>\n",
       "      <td>7043.000000</td>\n",
       "    </tr>\n",
       "    <tr>\n",
       "      <th>mean</th>\n",
       "      <td>0.162147</td>\n",
       "      <td>32.371149</td>\n",
       "      <td>64.761692</td>\n",
       "    </tr>\n",
       "    <tr>\n",
       "      <th>std</th>\n",
       "      <td>0.368612</td>\n",
       "      <td>24.559481</td>\n",
       "      <td>30.090047</td>\n",
       "    </tr>\n",
       "    <tr>\n",
       "      <th>min</th>\n",
       "      <td>0.000000</td>\n",
       "      <td>0.000000</td>\n",
       "      <td>18.250000</td>\n",
       "    </tr>\n",
       "    <tr>\n",
       "      <th>25%</th>\n",
       "      <td>0.000000</td>\n",
       "      <td>9.000000</td>\n",
       "      <td>35.500000</td>\n",
       "    </tr>\n",
       "    <tr>\n",
       "      <th>50%</th>\n",
       "      <td>0.000000</td>\n",
       "      <td>29.000000</td>\n",
       "      <td>70.350000</td>\n",
       "    </tr>\n",
       "    <tr>\n",
       "      <th>75%</th>\n",
       "      <td>0.000000</td>\n",
       "      <td>55.000000</td>\n",
       "      <td>89.850000</td>\n",
       "    </tr>\n",
       "    <tr>\n",
       "      <th>max</th>\n",
       "      <td>1.000000</td>\n",
       "      <td>72.000000</td>\n",
       "      <td>118.750000</td>\n",
       "    </tr>\n",
       "  </tbody>\n",
       "</table>\n",
       "</div>"
      ],
      "text/plain": [
       "       SeniorCitizen       tenure  MonthlyCharges\n",
       "count    7043.000000  7043.000000     7043.000000\n",
       "mean        0.162147    32.371149       64.761692\n",
       "std         0.368612    24.559481       30.090047\n",
       "min         0.000000     0.000000       18.250000\n",
       "25%         0.000000     9.000000       35.500000\n",
       "50%         0.000000    29.000000       70.350000\n",
       "75%         0.000000    55.000000       89.850000\n",
       "max         1.000000    72.000000      118.750000"
      ]
     },
     "execution_count": 5,
     "metadata": {},
     "output_type": "execute_result"
    }
   ],
   "source": [
    "df.describe()"
   ]
  },
  {
   "cell_type": "code",
   "execution_count": 6,
   "id": "189124b3-57c8-4a35-a95c-084aa75e2baa",
   "metadata": {},
   "outputs": [
    {
     "data": {
      "text/plain": [
       "customerID          0\n",
       "gender              0\n",
       "SeniorCitizen       0\n",
       "Partner             0\n",
       "Dependents          0\n",
       "tenure              0\n",
       "PhoneService        0\n",
       "MultipleLines       0\n",
       "InternetService     0\n",
       "OnlineSecurity      0\n",
       "OnlineBackup        0\n",
       "DeviceProtection    0\n",
       "TechSupport         0\n",
       "StreamingTV         0\n",
       "StreamingMovies     0\n",
       "Contract            0\n",
       "PaperlessBilling    0\n",
       "PaymentMethod       0\n",
       "MonthlyCharges      0\n",
       "TotalCharges        0\n",
       "Churn               0\n",
       "dtype: int64"
      ]
     },
     "execution_count": 6,
     "metadata": {},
     "output_type": "execute_result"
    }
   ],
   "source": [
    "df.isnull().sum() # no missing "
   ]
  },
  {
   "cell_type": "code",
   "execution_count": 7,
   "id": "2914c5a8-8e21-4930-9a29-78270bd9acd3",
   "metadata": {},
   "outputs": [
    {
     "name": "stdout",
     "output_type": "stream",
     "text": [
      "<class 'pandas.core.frame.DataFrame'>\n",
      "RangeIndex: 7043 entries, 0 to 7042\n",
      "Data columns (total 21 columns):\n",
      " #   Column            Non-Null Count  Dtype  \n",
      "---  ------            --------------  -----  \n",
      " 0   customerID        7043 non-null   object \n",
      " 1   gender            7043 non-null   object \n",
      " 2   SeniorCitizen     7043 non-null   int64  \n",
      " 3   Partner           7043 non-null   object \n",
      " 4   Dependents        7043 non-null   object \n",
      " 5   tenure            7043 non-null   int64  \n",
      " 6   PhoneService      7043 non-null   object \n",
      " 7   MultipleLines     7043 non-null   object \n",
      " 8   InternetService   7043 non-null   object \n",
      " 9   OnlineSecurity    7043 non-null   object \n",
      " 10  OnlineBackup      7043 non-null   object \n",
      " 11  DeviceProtection  7043 non-null   object \n",
      " 12  TechSupport       7043 non-null   object \n",
      " 13  StreamingTV       7043 non-null   object \n",
      " 14  StreamingMovies   7043 non-null   object \n",
      " 15  Contract          7043 non-null   object \n",
      " 16  PaperlessBilling  7043 non-null   object \n",
      " 17  PaymentMethod     7043 non-null   object \n",
      " 18  MonthlyCharges    7043 non-null   float64\n",
      " 19  TotalCharges      7043 non-null   object \n",
      " 20  Churn             7043 non-null   object \n",
      "dtypes: float64(1), int64(2), object(18)\n",
      "memory usage: 1.1+ MB\n"
     ]
    }
   ],
   "source": [
    "df.info()"
   ]
  },
  {
   "cell_type": "code",
   "execution_count": 8,
   "id": "21bfe787-f3c6-4b6f-8733-03c58a74b763",
   "metadata": {},
   "outputs": [],
   "source": [
    "df=df.drop('customerID',axis=1)"
   ]
  },
  {
   "cell_type": "code",
   "execution_count": 9,
   "id": "f35d2358-c5e4-4428-b5ba-3db732ac3198",
   "metadata": {},
   "outputs": [],
   "source": [
    "df['Churn']=df['Churn'].map({'Yes':1,'No':0})"
   ]
  },
  {
   "cell_type": "code",
   "execution_count": 10,
   "id": "be6665c8-0e32-43cd-912d-67080a7d932c",
   "metadata": {},
   "outputs": [
    {
     "data": {
      "text/plain": [
       "0         29.85\n",
       "1       1889.50\n",
       "2        108.15\n",
       "3       1840.75\n",
       "4        151.65\n",
       "         ...   \n",
       "7038    1990.50\n",
       "7039    7362.90\n",
       "7040     346.45\n",
       "7041     306.60\n",
       "7042    6844.50\n",
       "Name: TotalCharges, Length: 7043, dtype: float64"
      ]
     },
     "execution_count": 10,
     "metadata": {},
     "output_type": "execute_result"
    }
   ],
   "source": [
    "df[\"TotalCharges\"]=pd.to_numeric(df[\"TotalCharges\"],errors=\"coerce\")\n",
    "df[\"TotalCharges\"].fillna(df[\"TotalCharges\"].median())"
   ]
  },
  {
   "cell_type": "code",
   "execution_count": 11,
   "id": "3dee944f-e145-45f3-bec2-d5344ff12f48",
   "metadata": {},
   "outputs": [
    {
     "name": "stdout",
     "output_type": "stream",
     "text": [
      "<class 'pandas.core.frame.DataFrame'>\n",
      "RangeIndex: 7043 entries, 0 to 7042\n",
      "Data columns (total 20 columns):\n",
      " #   Column            Non-Null Count  Dtype  \n",
      "---  ------            --------------  -----  \n",
      " 0   gender            7043 non-null   object \n",
      " 1   SeniorCitizen     7043 non-null   int64  \n",
      " 2   Partner           7043 non-null   object \n",
      " 3   Dependents        7043 non-null   object \n",
      " 4   tenure            7043 non-null   int64  \n",
      " 5   PhoneService      7043 non-null   object \n",
      " 6   MultipleLines     7043 non-null   object \n",
      " 7   InternetService   7043 non-null   object \n",
      " 8   OnlineSecurity    7043 non-null   object \n",
      " 9   OnlineBackup      7043 non-null   object \n",
      " 10  DeviceProtection  7043 non-null   object \n",
      " 11  TechSupport       7043 non-null   object \n",
      " 12  StreamingTV       7043 non-null   object \n",
      " 13  StreamingMovies   7043 non-null   object \n",
      " 14  Contract          7043 non-null   object \n",
      " 15  PaperlessBilling  7043 non-null   object \n",
      " 16  PaymentMethod     7043 non-null   object \n",
      " 17  MonthlyCharges    7043 non-null   float64\n",
      " 18  TotalCharges      7032 non-null   float64\n",
      " 19  Churn             7043 non-null   int64  \n",
      "dtypes: float64(2), int64(3), object(15)\n",
      "memory usage: 1.1+ MB\n"
     ]
    }
   ],
   "source": [
    "df.info()"
   ]
  },
  {
   "cell_type": "code",
   "execution_count": 12,
   "id": "acb12a37-ca59-4cec-ac47-6ddfcf473299",
   "metadata": {},
   "outputs": [],
   "source": [
    "y=df[\"Churn\"]\n",
    "x=df.drop(\"Churn\",axis=1)"
   ]
  },
  {
   "cell_type": "code",
   "execution_count": 13,
   "id": "85e0c4a4-2752-44d7-aca8-d8a3a811e779",
   "metadata": {},
   "outputs": [
    {
     "data": {
      "text/plain": [
       "Churn\n",
       "0    73.463013\n",
       "1    26.536987\n",
       "Name: proportion, dtype: float64"
      ]
     },
     "execution_count": 13,
     "metadata": {},
     "output_type": "execute_result"
    }
   ],
   "source": [
    "df[\"Churn\"].value_counts(normalize=True)*100"
   ]
  },
  {
   "cell_type": "markdown",
   "id": "358395a9-0eca-40a4-a5de-c5325d2a9f67",
   "metadata": {},
   "source": [
    "that means our churn rate is 26.54%"
   ]
  },
  {
   "cell_type": "code",
   "execution_count": 14,
   "id": "c92bad15-5178-4b43-932a-234095b9c6a4",
   "metadata": {},
   "outputs": [],
   "source": [
    "cat_cols=x.select_dtypes(include=[\"object\"]).columns.tolist()\n",
    "num_cols=x.select_dtypes(include=[\"float64\",\"int64\"]).columns.tolist()"
   ]
  },
  {
   "cell_type": "code",
   "execution_count": 15,
   "id": "991f9015-f3cd-44aa-a325-c3906ad755c0",
   "metadata": {},
   "outputs": [
    {
     "data": {
      "text/plain": [
       "['gender',\n",
       " 'Partner',\n",
       " 'Dependents',\n",
       " 'PhoneService',\n",
       " 'MultipleLines',\n",
       " 'InternetService',\n",
       " 'OnlineSecurity',\n",
       " 'OnlineBackup',\n",
       " 'DeviceProtection',\n",
       " 'TechSupport',\n",
       " 'StreamingTV',\n",
       " 'StreamingMovies',\n",
       " 'Contract',\n",
       " 'PaperlessBilling',\n",
       " 'PaymentMethod']"
      ]
     },
     "execution_count": 15,
     "metadata": {},
     "output_type": "execute_result"
    }
   ],
   "source": [
    "cat_cols"
   ]
  },
  {
   "cell_type": "code",
   "execution_count": 16,
   "id": "a617902b-c040-4e74-83c1-b69a1d6d0f9a",
   "metadata": {},
   "outputs": [
    {
     "data": {
      "text/plain": [
       "['SeniorCitizen', 'tenure', 'MonthlyCharges', 'TotalCharges']"
      ]
     },
     "execution_count": 16,
     "metadata": {},
     "output_type": "execute_result"
    }
   ],
   "source": [
    "num_cols"
   ]
  },
  {
   "cell_type": "code",
   "execution_count": 17,
   "id": "45728025-c5ce-494a-9cc8-23152e4003e7",
   "metadata": {},
   "outputs": [],
   "source": [
    "from sklearn.preprocessing import StandardScaler,OneHotEncoder\n",
    "from sklearn.impute import SimpleImputer\n",
    "from sklearn.compose import ColumnTransformer\n",
    "from sklearn.model_selection import train_test_split"
   ]
  },
  {
   "cell_type": "code",
   "execution_count": 18,
   "id": "d75372a7-e12b-44d8-b847-d250e1fbc1fb",
   "metadata": {},
   "outputs": [],
   "source": [
    "ct=ColumnTransformer([\n",
    "    (\"trf1\",OneHotEncoder(drop=None,handle_unknown= \"ignore\",sparse_output=False),cat_cols),\n",
    "    (\"trf2\",StandardScaler(),num_cols)\n",
    "],remainder=\"passthrough\")"
   ]
  },
  {
   "cell_type": "code",
   "execution_count": 19,
   "id": "f1b84878-51d4-4c02-a4d6-72390edd139e",
   "metadata": {},
   "outputs": [],
   "source": [
    "x_train,x_test,y_train,y_test=train_test_split(x,y,test_size=0.2,random_state=42,stratify=y)"
   ]
  },
  {
   "cell_type": "code",
   "execution_count": 20,
   "id": "1908aecc-e3c7-4e7a-bb16-0c55f2f79809",
   "metadata": {},
   "outputs": [],
   "source": [
    "x_train_transformed=ct.fit_transform(x_train)\n",
    "x_test_transformed=ct.transform(x_test)"
   ]
  },
  {
   "cell_type": "code",
   "execution_count": 21,
   "id": "8b6415b0-7156-49b8-8202-65e2358514c9",
   "metadata": {},
   "outputs": [
    {
     "data": {
      "text/plain": [
       "(5634, 45)"
      ]
     },
     "execution_count": 21,
     "metadata": {},
     "output_type": "execute_result"
    }
   ],
   "source": [
    "x_train_transformed.shape"
   ]
  },
  {
   "cell_type": "code",
   "execution_count": 22,
   "id": "4449b114-d945-49d2-b074-6fbcc2fdac8e",
   "metadata": {},
   "outputs": [
    {
     "data": {
      "text/plain": [
       "(1409, 45)"
      ]
     },
     "execution_count": 22,
     "metadata": {},
     "output_type": "execute_result"
    }
   ],
   "source": [
    "x_test_transformed.shape"
   ]
  },
  {
   "cell_type": "code",
   "execution_count": 23,
   "id": "331b2b3a-0506-4d43-8a18-58e91b3c5bc0",
   "metadata": {},
   "outputs": [
    {
     "data": {
      "text/plain": [
       "array([[ 0.        ,  1.        ,  1.        , ...,  0.10237124,\n",
       "        -0.52197565, -0.26369549],\n",
       "       [ 0.        ,  1.        ,  0.        , ..., -0.71174346,\n",
       "         0.33747781, -0.5050764 ],\n",
       "       [ 0.        ,  1.        ,  0.        , ..., -0.79315493,\n",
       "        -0.80901319, -0.75132793],\n",
       "       ...,\n",
       "       [ 1.        ,  0.        ,  1.        , ..., -0.30468611,\n",
       "         1.25666162,  0.15691108],\n",
       "       [ 1.        ,  0.        ,  0.        , ..., -0.34539184,\n",
       "        -1.47766135, -0.79852029],\n",
       "       [ 0.        ,  1.        ,  1.        , ..., -1.07809507,\n",
       "        -1.46936546, -0.96241007]])"
      ]
     },
     "execution_count": 23,
     "metadata": {},
     "output_type": "execute_result"
    }
   ],
   "source": [
    "x_train_transformed"
   ]
  },
  {
   "cell_type": "code",
   "execution_count": 24,
   "id": "ddfa346e-05c9-4853-9587-e438b3f08cd3",
   "metadata": {},
   "outputs": [
    {
     "data": {
      "text/plain": [
       "array([[ 0.        ,  1.        ,  0.        , ...,  1.60848343,\n",
       "         1.62997635,  2.70543012],\n",
       "       [ 1.        ,  0.        ,  1.        , ..., -0.9966836 ,\n",
       "         1.16872526, -0.61170349],\n",
       "       [ 1.        ,  0.        ,  0.        , ...,  0.34660565,\n",
       "         0.44532428,  0.3986869 ],\n",
       "       ...,\n",
       "       [ 0.        ,  1.        ,  1.        , ..., -1.11880081,\n",
       "        -1.46936546, -0.96932109],\n",
       "       [ 1.        ,  0.        ,  1.        , ...,  0.95719167,\n",
       "        -1.50088982, -0.54880228],\n",
       "       [ 1.        ,  0.        ,  0.        , ...,  1.60848343,\n",
       "         0.18317439,  1.25631095]])"
      ]
     },
     "execution_count": 24,
     "metadata": {},
     "output_type": "execute_result"
    }
   ],
   "source": [
    "x_test_transformed"
   ]
  },
  {
   "cell_type": "code",
   "execution_count": 25,
   "id": "ff600ac9-6eb3-4a7b-85d4-fee63d5330f5",
   "metadata": {},
   "outputs": [],
   "source": [
    "import matplotlib.pyplot as plt\n",
    "import seaborn as sns\n"
   ]
  },
  {
   "cell_type": "code",
   "execution_count": 26,
   "id": "3d3fbd18-97ee-4116-bf14-0b7ba6647212",
   "metadata": {},
   "outputs": [
    {
     "data": {
      "image/png": "[encoded data removed]",
      "text/plain": [
       "<Figure size 600x400 with 1 Axes>"
      ]
     },
     "metadata": {},
     "output_type": "display_data"
    }
   ],
   "source": [
    "#Lets see how churn distribution looks like\n",
    "plt.figure(figsize=(6,4))\n",
    "sns.countplot(x=\"Churn\",data=df)\n",
    "plt.title(\"Churn Distribution\")\n",
    "plt.show()"
   ]
  },
  {
   "cell_type": "code",
   "execution_count": 27,
   "id": "dfc1342e-fddb-4fbd-a76d-6e41580463bc",
   "metadata": {},
   "outputs": [
    {
     "data": {
      "image/png": "[encoded data removed]",
      "text/plain": [
       "<Figure size 600x400 with 1 Axes>"
      ]
     },
     "metadata": {},
     "output_type": "display_data"
    }
   ],
   "source": [
    "# Now lets see Gender vs Churn\n",
    "plt.figure(figsize=(6,4))\n",
    "sns.countplot(x=\"gender\",hue=\"Churn\",data=df,palette=\"coolwarm\")\n",
    "plt.title(\"Churn By Gender\")\n",
    "plt.show()"
   ]
  },
  {
   "cell_type": "markdown",
   "id": "9de965aa-d84b-4b62-a0a6-5632e968f6a3",
   "metadata": {},
   "source": [
    "-> From the above graph we can say that Gender doesn't affect the Churn that significantly."
   ]
  },
  {
   "cell_type": "code",
   "execution_count": 28,
   "id": "c2358a89-ff98-400b-99f9-0b5b5f8cc538",
   "metadata": {},
   "outputs": [
    {
     "data": {
      "image/png": "[encoded data removed]",
      "text/plain": [
       "<Figure size 600x400 with 1 Axes>"
      ]
     },
     "metadata": {},
     "output_type": "display_data"
    }
   ],
   "source": [
    "# Now lets see Contract Type vs Churn\n",
    "plt.figure(figsize=(6,4))\n",
    "sns.countplot(x=\"Contract\",hue=\"Churn\",data=df,palette=\"Set1\")\n",
    "plt.title(\"Churn By Contract\")\n",
    "plt.show()"
   ]
  },
  {
   "cell_type": "markdown",
   "id": "36e65162-87a5-479d-9070-7b5976e305b7",
   "metadata": {},
   "source": [
    "->From the above countplot ,we can clearly observe that the Customers having month to month contarct have highest churn among the contract types"
   ]
  },
  {
   "cell_type": "code",
   "execution_count": 29,
   "id": "e48579f6-962f-45b3-9a2c-5cfef0fcd512",
   "metadata": {},
   "outputs": [
    {
     "data": {
      "image/png": "[encoded data removed]",
      "text/plain": [
       "<Figure size 600x400 with 1 Axes>"
      ]
     },
     "metadata": {},
     "output_type": "display_data"
    }
   ],
   "source": [
    "# Now lets see Internet Service vs Churn\n",
    "plt.figure(figsize=(6,4))\n",
    "sns.countplot(x=\"InternetService\",hue=\"Churn\",data=df,palette=\"Set2\")\n",
    "plt.title(\"Churn By Internet Service\")\n",
    "plt.show()"
   ]
  },
  {
   "cell_type": "markdown",
   "id": "249125e2-d296-4595-9489-36b6a8051e99",
   "metadata": {},
   "source": [
    "->From the above graph , We can clearly draw the insight that customer with Fiber Optic Internet Service have higher churn than DSL.There is a high chance there might be some issue with the fibre optic internet service in satisfying the customer need."
   ]
  },
  {
   "cell_type": "code",
   "execution_count": 30,
   "id": "8f48df69-2946-479a-820a-5386d1dddf18",
   "metadata": {},
   "outputs": [
    {
     "data": {
      "image/png": "[encoded data removed]",
      "text/plain": [
       "<Figure size 600x400 with 1 Axes>"
      ]
     },
     "metadata": {},
     "output_type": "display_data"
    }
   ],
   "source": [
    "# Now lets see Tenure vs Churn\n",
    "plt.figure(figsize=(6,4))\n",
    "sns.histplot(x=\"tenure\",hue=\"Churn\",bins=30,kde=True,data=df,palette=\"Set1\")\n",
    "plt.title(\"Churn By Tenure\")\n",
    "plt.show()"
   ]
  },
  {
   "cell_type": "markdown",
   "id": "542ae802-8895-4d74-bbfe-d5586e1f0db7",
   "metadata": {},
   "source": [
    "-> From the above histplot, we can observe that new customers have a higher churn rate"
   ]
  },
  {
   "cell_type": "code",
   "execution_count": 31,
   "id": "2ccf407f-b6d9-4cd8-aba3-c16886689b39",
   "metadata": {},
   "outputs": [
    {
     "data": {
      "image/png": "[encoded data removed]",
      "text/plain": [
       "<Figure size 600x400 with 1 Axes>"
      ]
     },
     "metadata": {},
     "output_type": "display_data"
    }
   ],
   "source": [
    "# Now lets see Monthly Charges vs Churn\n",
    "plt.figure(figsize=(6,4))\n",
    "sns.boxplot(hue=\"Churn\",y=\"MonthlyCharges\",data=df,palette=\"coolwarm\")\n",
    "plt.title(\"Monthly Charges vs Churn\")\n",
    "plt.show()"
   ]
  },
  {
   "cell_type": "markdown",
   "id": "17cbaa47-7a31-4d09-9ae7-a798f0a470ef",
   "metadata": {},
   "source": [
    "-> Above graph tells us that, Customer with higher Monthly charges have higher Churn rate than that of the customers who have lower monthly charges."
   ]
  },
  {
   "cell_type": "code",
   "execution_count": 32,
   "id": "b37e2a2b-59bb-4da4-92e6-de96dfef9cb2",
   "metadata": {},
   "outputs": [
    {
     "data": {
      "image/png": "[encoded data removed]",
      "text/plain": [
       "<Figure size 800x600 with 2 Axes>"
      ]
     },
     "metadata": {},
     "output_type": "display_data"
    }
   ],
   "source": [
    "# Now lets see Gender vs Churn\n",
    "plt.figure(figsize=(8,6))\n",
    "sns.heatmap(df[[\"tenure\",\"MonthlyCharges\",\"TotalCharges\",\"Churn\"]].corr(),annot=True,cmap=\"coolwarm\")\n",
    "plt.title(\"Correlation Heatmap\")\n",
    "plt.show()"
   ]
  },
  {
   "cell_type": "code",
   "execution_count": 33,
   "id": "95ad38f7-5bc3-4caf-ae55-92dd409fabde",
   "metadata": {},
   "outputs": [],
   "source": [
    "from sklearn.linear_model import LogisticRegression\n",
    "from sklearn.ensemble import RandomForestClassifier\n",
    "from xgboost import XGBClassifier\n",
    "from sklearn.metrics import accuracy_score,classification_report,confusion_matrix"
   ]
  },
  {
   "cell_type": "code",
   "execution_count": 34,
   "id": "3fe40698-6298-4d13-88e6-72b5d4880971",
   "metadata": {},
   "outputs": [
    {
     "data": {
      "text/plain": [
       "np.int64(8)"
      ]
     },
     "execution_count": 34,
     "metadata": {},
     "output_type": "execute_result"
    }
   ],
   "source": [
    "np.isnan(x_train_transformed).sum()"
   ]
  },
  {
   "cell_type": "code",
   "execution_count": 35,
   "id": "ba212b12-2289-4588-b336-69703b362bac",
   "metadata": {
    "scrolled": true
   },
   "outputs": [],
   "source": [
    "lr=LogisticRegression(max_iter=10000)\n",
    "x_train_transformed=np.nan_to_num(x_train_transformed)\n",
    "x_test_transformed=np.nan_to_num(x_test_transformed)\n",
    "lr.fit(x_train_transformed,y_train)\n",
    "y_pred_lr=lr.predict(x_test_transformed)"
   ]
  },
  {
   "cell_type": "code",
   "execution_count": 36,
   "id": "ec8c996f-0440-4b63-a34e-e9866f2f187c",
   "metadata": {},
   "outputs": [
    {
     "name": "stdout",
     "output_type": "stream",
     "text": [
      "Accuracy of logistic regression: 80.48261178140525 %\n"
     ]
    }
   ],
   "source": [
    "print(\"Accuracy of logistic regression:\",accuracy_score(y_test,y_pred_lr)*100,\"%\") #accuracy of logistic regression "
   ]
  },
  {
   "cell_type": "code",
   "execution_count": 37,
   "id": "166eb4d4-7aa6-44c4-9321-24f6cf7c4195",
   "metadata": {},
   "outputs": [],
   "source": [
    "ct_rf_xgb=ColumnTransformer([\n",
    "    (\"ohe\",OneHotEncoder(drop=None,handle_unknown=\"ignore\",sparse_output=False),cat_cols)\n",
    "],remainder=\"passthrough\")\n",
    "x_train_rfxgb=ct_rf_xgb.fit_transform(x_train)\n",
    "x_test_rfxgb=ct_rf_xgb.transform(x_test)\n",
    "rf=RandomForestClassifier(n_estimators=500,\n",
    "                          max_depth=10,\n",
    "                          random_state=42,\n",
    "                          class_weight=\"balanced\")\n",
    "rf.fit(x_train_rfxgb,y_train)\n",
    "y_pred_rf=rf.predict(x_test_rfxgb)"
   ]
  },
  {
   "cell_type": "code",
   "execution_count": 38,
   "id": "65e57567-ba30-4e6f-a0dc-3a599faebd8a",
   "metadata": {},
   "outputs": [
    {
     "name": "stdout",
     "output_type": "stream",
     "text": [
      "Accuracy of Random Forest: 77.14691270404542 %\n"
     ]
    }
   ],
   "source": [
    "print(\"Accuracy of Random Forest:\",accuracy_score(y_test,y_pred_rf)*100,\"%\") #accuracy of Random Forest Classifier "
   ]
  },
  {
   "cell_type": "code",
   "execution_count": 39,
   "id": "43139747-61c6-4d75-bb7e-46319d1678a8",
   "metadata": {},
   "outputs": [],
   "source": [
    "xgb=XGBClassifier(\n",
    "    n_estimators=500,\n",
    "    learning_rate=0.05,\n",
    "    max_depth=8,\n",
    "    subsample=0.8,\n",
    "    colsample_bytree=0.8,\n",
    "    scale_pos_weight=(len(y_train)-sum(y_train))/sum(y_train),#to handle imbalance\n",
    "    eval_metric=\"logloss\",\n",
    "    random_state=42)\n",
    "xgb.fit(x_train_rfxgb,y_train)\n",
    "y_pred_xgb=xgb.predict(x_test_rfxgb)"
   ]
  },
  {
   "cell_type": "code",
   "execution_count": 40,
   "id": "82e20399-cafe-4840-a5d8-f13aec8f769d",
   "metadata": {},
   "outputs": [
    {
     "name": "stdout",
     "output_type": "stream",
     "text": [
      "Accuracy of XGBoost: 77.14691270404542 %\n"
     ]
    }
   ],
   "source": [
    "print(\"Accuracy of XGBoost:\",accuracy_score(y_test,y_pred_rf)*100,\"%\") #accuracy of Random Forest Classifier "
   ]
  },
  {
   "cell_type": "code",
   "execution_count": 41,
   "id": "819a87cc-a950-46b5-9fe1-4b7caac088d5",
   "metadata": {},
   "outputs": [
    {
     "name": "stdout",
     "output_type": "stream",
     "text": [
      "Logistic ROC AUC score:  0.8417835645457129\n"
     ]
    }
   ],
   "source": [
    "from sklearn.metrics import roc_auc_score\n",
    "y_prob_lr=lr.predict_proba(x_test_transformed)[:,1]\n",
    "print(\"Logistic ROC AUC score: \", roc_auc_score(y_test,y_prob_lr))"
   ]
  },
  {
   "cell_type": "code",
   "execution_count": 42,
   "id": "fbb4b494-e2f7-41bc-87a8-e6b73c2aecf7",
   "metadata": {},
   "outputs": [
    {
     "name": "stdout",
     "output_type": "stream",
     "text": [
      "Random Forest ROC AUC score:  0.8392066444496113\n"
     ]
    }
   ],
   "source": [
    "y_prob_rf=rf.predict_proba(x_test_rfxgb)[:,1]\n",
    "print(\"Random Forest ROC AUC score: \", roc_auc_score(y_test,y_prob_rf))"
   ]
  },
  {
   "cell_type": "code",
   "execution_count": 43,
   "id": "6bc30f33-904a-4bc2-b9ba-ea27d20522b6",
   "metadata": {},
   "outputs": [
    {
     "name": "stdout",
     "output_type": "stream",
     "text": [
      "XGBoost ROC AUC score:  0.8193792141362475\n"
     ]
    }
   ],
   "source": [
    "y_prob_xgb=xgb.predict_proba(x_test_rfxgb)[:,1]\n",
    "print(\"XGBoost ROC AUC score: \", roc_auc_score(y_test,y_prob_xgb))"
   ]
  },
  {
   "cell_type": "code",
   "execution_count": 44,
   "id": "6f4432b1-33d5-4775-8281-e37a2c0aef32",
   "metadata": {},
   "outputs": [
    {
     "data": {
      "text/html": [
       "<div>\n",
       "<style scoped>\n",
       "    .dataframe tbody tr th:only-of-type {\n",
       "        vertical-align: middle;\n",
       "    }\n",
       "\n",
       "    .dataframe tbody tr th {\n",
       "        vertical-align: top;\n",
       "    }\n",
       "\n",
       "    .dataframe thead th {\n",
       "        text-align: right;\n",
       "    }\n",
       "</style>\n",
       "<table border=\"1\" class=\"dataframe\">\n",
       "  <thead>\n",
       "    <tr style=\"text-align: right;\">\n",
       "      <th></th>\n",
       "      <th>Model</th>\n",
       "      <th>Accuracy</th>\n",
       "      <th>Precison</th>\n",
       "      <th>Recall</th>\n",
       "      <th>F1-Score</th>\n",
       "      <th>ROC AUC score</th>\n",
       "    </tr>\n",
       "  </thead>\n",
       "  <tbody>\n",
       "    <tr>\n",
       "      <th>0</th>\n",
       "      <td>Logistic Regression</td>\n",
       "      <td>0.804826</td>\n",
       "      <td>0.656151</td>\n",
       "      <td>0.556150</td>\n",
       "      <td>0.602026</td>\n",
       "      <td>0.841784</td>\n",
       "    </tr>\n",
       "    <tr>\n",
       "      <th>1</th>\n",
       "      <td>Random Forest</td>\n",
       "      <td>0.771469</td>\n",
       "      <td>0.553719</td>\n",
       "      <td>0.716578</td>\n",
       "      <td>0.624709</td>\n",
       "      <td>0.839207</td>\n",
       "    </tr>\n",
       "    <tr>\n",
       "      <th>2</th>\n",
       "      <td>XGBoost</td>\n",
       "      <td>0.770050</td>\n",
       "      <td>0.558962</td>\n",
       "      <td>0.633690</td>\n",
       "      <td>0.593985</td>\n",
       "      <td>0.819379</td>\n",
       "    </tr>\n",
       "  </tbody>\n",
       "</table>\n",
       "</div>"
      ],
      "text/plain": [
       "                 Model  Accuracy  Precison    Recall  F1-Score  ROC AUC score\n",
       "0  Logistic Regression  0.804826  0.656151  0.556150  0.602026       0.841784\n",
       "1        Random Forest  0.771469  0.553719  0.716578  0.624709       0.839207\n",
       "2              XGBoost  0.770050  0.558962  0.633690  0.593985       0.819379"
      ]
     },
     "execution_count": 44,
     "metadata": {},
     "output_type": "execute_result"
    }
   ],
   "source": [
    "from sklearn.metrics import precision_score,recall_score,f1_score\n",
    "\n",
    "models={\"Logistic Regression\":(y_test,y_pred_lr,y_prob_lr),\n",
    "       \"Random Forest\":(y_test,y_pred_rf,y_prob_rf),\n",
    "       \"XGBoost\":(y_test,y_pred_xgb,y_prob_xgb)\n",
    "       }\n",
    "comparison=[]\n",
    "for name,(y_true,y_pred,y_prob) in models.items():\n",
    "    comparison.append({\n",
    "        \"Model\":name,\n",
    "        \"Accuracy\":accuracy_score(y_true,y_pred),\n",
    "        \"Precison\":precision_score(y_true,y_pred),\n",
    "        \"Recall\":recall_score(y_true,y_pred),\n",
    "        \"F1-Score\":f1_score(y_true,y_pred),\n",
    "        \"ROC AUC score\":roc_auc_score(y_true,y_prob)\n",
    "    })\n",
    "results_df=pd.DataFrame(comparison)\n",
    "results_df"
   ]
  },
  {
   "cell_type": "code",
   "execution_count": 45,
   "id": "2bc73de7-820e-47d5-9663-d28b2ae73a52",
   "metadata": {},
   "outputs": [
    {
     "data": {
      "text/plain": [
       "tenure                            0.125232\n",
       "TotalCharges                      0.106870\n",
       "Contract_Month-to-month           0.106692\n",
       "MonthlyCharges                    0.081663\n",
       "Contract_Two year                 0.060450\n",
       "OnlineSecurity_No                 0.052280\n",
       "TechSupport_No                    0.044582\n",
       "InternetService_Fiber optic       0.042361\n",
       "PaymentMethod_Electronic check    0.034548\n",
       "Contract_One year                 0.021030\n",
       "dtype: float64"
      ]
     },
     "execution_count": 45,
     "metadata": {},
     "output_type": "execute_result"
    }
   ],
   "source": [
    "ohe=ct_rf_xgb.named_transformers_[\"ohe\"]\n",
    "encoded_cols=ohe.get_feature_names_out(cat_cols)\n",
    "all_features=np.concatenate([encoded_cols,num_cols])\n",
    "importances=rf.feature_importances_\n",
    "feat_imp=pd.Series(importances,index=all_features).sort_values(ascending=False)\n",
    "feat_imp.head(10)"
   ]
  },
  {
   "cell_type": "code",
   "execution_count": 46,
   "id": "f0a0d08f-51ba-4d39-adf1-18f486a8b45f",
   "metadata": {},
   "outputs": [
    {
     "data": {
      "image/png": "[encoded data removed]",
      "text/plain": [
       "<Figure size 800x500 with 1 Axes>"
      ]
     },
     "metadata": {},
     "output_type": "display_data"
    }
   ],
   "source": [
    "#visualising the top 10 features\n",
    "feat_imp.head(10).plot(kind=\"barh\",figsize=(8,5),color=\"pink\")\n",
    "plt.title(\"Top 10 Features Driving Churn\")\n",
    "plt.xlabel(\"Importance Score\")\n",
    "plt.ylabel(\"Features\")\n",
    "plt.show()"
   ]
  },
  {
   "cell_type": "code",
   "execution_count": 49,
   "id": "e0f6b52a-1d5e-4ae7-9277-aa51e3d96533",
   "metadata": {},
   "outputs": [
    {
     "data": {
      "text/plain": [
       "['ColumnTransformer_compressed.pkl']"
      ]
     },
     "execution_count": 49,
     "metadata": {},
     "output_type": "execute_result"
    }
   ],
   "source": [
    "import joblib\n",
    "joblib.dump(rf,'rf_model_churn_compressed.pkl',compress=3)\n",
    "joblib.dump(ct,'ColumnTransformer_compressed.pkl',compress=3)"
   ]
  },
  {
   "cell_type": "code",
   "execution_count": null,
   "id": "b25ac357-3f51-4b42-a773-e4cffd49893b",
   "metadata": {},
   "outputs": [],
   "source": []
  }
 ],
 "metadata": {
  "kernelspec": {
   "display_name": "Python 3 (ipykernel)",
   "language": "python",
   "name": "python3"
  },
  "language_info": {
   "codemirror_mode": {
    "name": "ipython",
    "version": 3
   },
   "file_extension": ".py",
   "mimetype": "text/x-python",
   "name": "python",
   "nbconvert_exporter": "python",
   "pygments_lexer": "ipython3",
   "version": "3.12.7"
  }
 },
 "nbformat": 4,
 "nbformat_minor": 5
}
